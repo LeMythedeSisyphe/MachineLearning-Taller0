{
 "cells": [
  {
   "cell_type": "markdown",
   "metadata": {},
   "source": [
    "<img src=\"http://www.exalumnos.usm.cl/wp-content/uploads/2015/06/Isotipo-Negro.gif\" title=\"Title text\" width=\"20%\" height=\"20%\" />\n",
    "\n",
    "\n",
    "<hr style=\"height:2px;border:none\"/>\n",
    "<h1 align='center'> INF-393 Máquinas de Aprendizaje II-2018 </h1>\n",
    "\n",
    "<H3 align='center'> Tarea 0 - Introducción a Máquinas de Aprendizaje </H3>\n",
    "<hr style=\"height:2px;border:none\"/>\n",
    "\n",
    "**Integrantes:**  \n",
    "* César Quiroz Mansilla 201573578-6 cesar.quirozm@sansano.usm.cl\n",
    "* Jorge Contreras Cabrera 201573547-6 jorge.contrerasc@sansano.usm.cl\n"
   ]
  },
  {
   "cell_type": "markdown",
   "metadata": {},
   "source": [
    "> Antes de comenzar se importan las librerias usadas en la resolución del taller 0"
   ]
  },
  {
   "cell_type": "code",
   "execution_count": 1,
   "metadata": {},
   "outputs": [],
   "source": [
    "#Importaciones librerias usadas.\n",
    "import matplotlib.pyplot as plt\n",
    "import pandas as pd\n",
    "import numpy as np"
   ]
  },
  {
   "cell_type": "markdown",
   "metadata": {},
   "source": [
    "##  2. Job Salary Prediction"
   ]
  },
  {
   "cell_type": "markdown",
   "metadata": {},
   "source": [
    "> a) Carge los datos *csv* de entrenamiento y cree un conjunto de validación con los últimos 10 mil datos en un dataframe de *pandas*. Describa los datos, apóyese de gráficos ¿Cuántos datos hay en cada conjunto?  "
   ]
  },
  {
   "cell_type": "code",
   "execution_count": 17,
   "metadata": {},
   "outputs": [],
   "source": [
    "df = pd.read_csv(\"Train_rev1.csv\")\n",
    "df_train = df.iloc[:-10000]  #todo el conjunto menos los ultimos 10k\n",
    "df_val = df.iloc[-10000:]    #ultimos 10k valores del conjunto\n",
    "df_train2 = df.iloc[-25000:-10000]"
   ]
  },
  {
   "cell_type": "code",
   "execution_count": 3,
   "metadata": {},
   "outputs": [],
   "source": [
    "#Quitar filas que no estan normalizadas\n",
    "# Conjunto validacion\n",
    "del df_val['LocationRaw'] #Direccion en estado bruto\n",
    "del df_val['SalaryRaw'] #salatio en estado bruto\n",
    "del df_val['SourceName'] #Nombre de ka fuente innecesaria\n",
    "del df_val['Title'] #todos tinen diferente valor\n",
    "\n",
    "#Conjunto entrenamiento\n",
    "del df_train['LocationRaw']\n",
    "del df_train['SalaryRaw']\n",
    "del df_train['SourceName']\n",
    "del df_train['Title']"
   ]
  },
  {
   "cell_type": "code",
   "execution_count": 4,
   "metadata": {},
   "outputs": [],
   "source": [
    "#Crear conjuntos de salarios.\n",
    "largo_conjunto = 15000 #conjuntos de 15000 en 15000\n",
    "c1=0\n",
    "c2=0\n",
    "c3=0\n",
    "c4=0\n",
    "c5=5\n",
    "c6=0\n",
    "c7=0\n",
    "c8=0\n",
    "c9=0\n",
    "c10=0\n",
    "for x in df_train.SalaryNormalized:\n",
    "    if largo_conjunto >= x:\n",
    "        c1=c1+1 \n",
    "    elif(2*largo_conjunto) >= x:\n",
    "        c2=c2+1\n",
    "    elif (3*largo_conjunto) >= x:\n",
    "        c3=c3+1\n",
    "    elif(4*largo_conjunto) >= x:\n",
    "        c4=c4+1\n",
    "    elif (5*largo_conjunto) >= x:\n",
    "        c5=c5+1\n",
    "    elif (6*largo_conjunto) >= x:\n",
    "        c6=c6+1\n",
    "    elif (7*largo_conjunto) >= x:\n",
    "        c7=c7+1\n",
    "    elif (8*largo_conjunto) >= x:\n",
    "        c8=c8+1\n",
    "    elif (9*largo_conjunto)>=x:\n",
    "        c9=c9+1\n",
    "    else:\n",
    "        c10=c10+1"
   ]
  },
  {
   "cell_type": "code",
   "execution_count": 5,
   "metadata": {},
   "outputs": [
    {
     "data": {
      "image/png": "[encoded data removed]",
      "text/plain": [
       "<Figure size 720x432 with 1 Axes>"
      ]
     },
     "metadata": {},
     "output_type": "display_data"
    }
   ],
   "source": [
    "# Graficas\n",
    "\n",
    "#Gráfico de barras de salarios por persona\n",
    "import warnings\n",
    "import matplotlib.cbook\n",
    "warnings.filterwarnings(\"ignore\",category=matplotlib.cbook.mplDeprecation)\n",
    "\n",
    "eje_x=[\"[0-15]\",\"]15-30]\",\"]30-45]\",\"]45-60]\",\"]60-75]\",\"]75-90]\",\"]90-105]\",\"]105-120]\",\"]120-135]\",\"]135-otros]\"]\n",
    "datos = [c1,c2,c3,c4,c5,c6,c7,c8,c9,c10]\n",
    "X = np.arange(len(datos))\n",
    "plt.figure(figsize=(10,6))\n",
    "plt.bar(X, datos, align='center') #Widtth calibra grosor de las barras\n",
    "ax =plt.axes()\n",
    "ax.set_xticks(X)\n",
    "ax.set_xticklabels(eje_x,rotation = 45)\n",
    "plt.title(\"Salarios\") #titulo\n",
    "plt.xlabel('Rango de salarios en miles') #Nombre eje x\n",
    "plt.ylabel('Cantidad de personas') #Nombre eje y\n",
    "plt.show()\n"
   ]
  },
  {
   "cell_type": "markdown",
   "metadata": {},
   "source": [
    "Este gráfico informa cuantas personas ganan cierto rango de dinero (cada rango es de 15000 dolares), con ello encontramos que casi la\n",
    "totaliad de la población gana entre 15000 y 45000 dolares."
   ]
  },
  {
   "cell_type": "code",
   "execution_count": 6,
   "metadata": {},
   "outputs": [
    {
     "data": {
      "image/png": "[encoded data removed]",
      "text/plain": [
       "<Figure size 432x288 with 1 Axes>"
      ]
     },
     "metadata": {},
     "output_type": "display_data"
    }
   ],
   "source": [
    "#Gráfico de barras de los tipos de contratos\n",
    "eje_x=[\"Full time\",\"Part time\"]\n",
    "X = np.arange(2)\n",
    "plt.bar(X, df_train.ContractType.value_counts(), align='center',color=[\"r\",\"b\"])\n",
    "ax =plt.axes()\n",
    "ax.set_xticks(X)\n",
    "ax.set_xticklabels(eje_x)\n",
    "plt.title(\"Tipos de contrato\") #titulo\n",
    "plt.xlabel('Contratos') #Nombre eje x\n",
    "plt.ylabel('Cantidad de personas') #Nombre eje y\n",
    "plt.show()\n"
   ]
  },
  {
   "cell_type": "markdown",
   "metadata": {},
   "source": [
    "Encontramos 2 tipos de personas contratadas full time y part time, aunque se observa que existe una cantidad mucho mayor de trabajadores full time, con esta información no puede concluirse nada, ya que solo cerca de 60000 datos estan representados en el gráfico de un universo de 230000 por lo tanto esta información no es relevante.\n",
    "\n",
    "Se elimina la columna con los tipos de contrato."
   ]
  },
  {
   "cell_type": "code",
   "execution_count": 7,
   "metadata": {},
   "outputs": [],
   "source": [
    "#eliminar columna 'ContractType'\n",
    "del df_val['ContractType']\n",
    "del df_train['ContractType']"
   ]
  },
  {
   "cell_type": "code",
   "execution_count": 8,
   "metadata": {},
   "outputs": [
    {
     "data": {
      "text/plain": [
       "<BarContainer object of 29 artists>"
      ]
     },
     "execution_count": 8,
     "metadata": {},
     "output_type": "execute_result"
    },
    {
     "data": {
      "image/png": "[encoded data removed]",
      "text/plain": [
       "<Figure size 432x288 with 1 Axes>"
      ]
     },
     "metadata": {},
     "output_type": "display_data"
    }
   ],
   "source": [
    "ct = df_val[pd.notnull(df_val['Category'])]\n",
    "set1 = ct.Category.unique()\n",
    "set1\n",
    "\n",
    "jobs = df.groupby('Category', as_index=False)['SalaryNormalized'].mean()\n",
    "jobs = jobs.sort_values('SalaryNormalized', ascending=False)\n",
    "\n",
    "plt.barh(jobs.Category, jobs.SalaryNormalized)\n",
    "\n",
    "\n"
   ]
  },
  {
   "cell_type": "code",
   "execution_count": 9,
   "metadata": {},
   "outputs": [],
   "source": [
    "#b\n",
    "text = df.FullDescription\n",
    "salary = df.SalaryNormalized"
   ]
  },
  {
   "cell_type": "code",
   "execution_count": 10,
   "metadata": {},
   "outputs": [
    {
     "name": "stdout",
     "output_type": "stream",
     "text": [
      "[nltk_data] Downloading package punkt to\n",
      "[nltk_data]     C:\\Users\\Jorge\\AppData\\Roaming\\nltk_data...\n",
      "[nltk_data]   Package punkt is already up-to-date!\n",
      "[nltk_data] Downloading package wordnet to\n",
      "[nltk_data]     C:\\Users\\Jorge\\AppData\\Roaming\\nltk_data...\n",
      "[nltk_data]   Package wordnet is already up-to-date!\n"
     ]
    }
   ],
   "source": [
    "#c\n",
    "import nltk\n",
    "nltk.download('punkt')\n",
    "nltk.download('wordnet')\n",
    "import re, time\n",
    "from nltk.corpus import stopwords\n",
    "from nltk import WordNetLemmatizer, word_tokenize\n",
    "from nltk.stem.porter import PorterStemmer\n",
    "def word_extractor1(text):\n",
    "    wordlemmatizer = WordNetLemmatizer()\n",
    "    commonwords = stopwords.words('english')\n",
    "    text = re.sub(r'([a-z])\\1+', r'\\1\\1',text)#substitute multiple letter by two\n",
    "    text = re.sub('[/*]', '', text)\n",
    "    words = \"\"\n",
    "    wordtokens = [ wordlemmatizer.lemmatize(word.lower())for word in word_tokenize(text) ]\n",
    "    for word in wordtokens:\n",
    "        if word not in commonwords:\n",
    "            words+=\" \"+word\n",
    "    return words\n",
    "\n",
    "def word_extractor2(text):\n",
    "    wordstemmer = PorterStemmer()\n",
    "    commonwords = stopwords.words('english')\n",
    "    text = re.sub(r'([a-z])\\1+', r'\\1\\1',text)#substitute multiple letter by two\n",
    "    text = re.sub('[/*]', '', text)\n",
    "    words = \"\"\n",
    "    wordtokens = [ wordstemmer.stem(word.lower())for word in word_tokenize(text) ]\n",
    "    for word in wordtokens:\n",
    "        if word not in commonwords:\n",
    "            words+=\" \"+word\n",
    "    return words"
   ]
  },
  {
   "cell_type": "code",
   "execution_count": 18,
   "metadata": {},
   "outputs": [],
   "source": [
    "import numpy as np\n",
    "from sklearn.feature_extraction.text import CountVectorizer\n",
    "texts_train1 = [word_extractor1(t) for t in df_train2.FullDescription]\n",
    "texts_val1 = [word_extractor1(t) for t in df_val.FullDescription]\n",
    "\n",
    "vectorizer1 = CountVectorizer(ngram_range=(1, 1), binary='False')\n",
    "vectorizer1.fit(np.asarray(texts_train1))\n",
    "\n",
    "features_train = vectorizer1.transform(texts_train1)\n",
    "features_val = vectorizer1.transform(texts_val1)\n",
    "\n",
    "labels_train = np.asarray(df_train2.SalaryNormalized.astype(float))\n",
    "labels_val = np.asarray(df_val.SalaryNormalized.astype(float))"
   ]
  },
  {
   "cell_type": "code",
   "execution_count": 20,
   "metadata": {},
   "outputs": [
    {
     "data": {
      "text/plain": [
       "LinearRegression(copy_X=True, fit_intercept=True, n_jobs=1, normalize=False)"
      ]
     },
     "execution_count": 20,
     "metadata": {},
     "output_type": "execute_result"
    }
   ],
   "source": [
    "#d\n",
    "from sklearn.linear_model import LinearRegression as LR\n",
    "model = LR(fit_intercept=True, normalize=False)\n",
    "model.fit(features_train,labels_train)"
   ]
  },
  {
   "cell_type": "code",
   "execution_count": 22,
   "metadata": {},
   "outputs": [
    {
     "name": "stdout",
     "output_type": "stream",
     "text": [
      "MAE on train:  28.319509029316073\n",
      "MAE on validation:  23637.50687756283\n"
     ]
    }
   ],
   "source": [
    "from sklearn.metrics import mean_absolute_error #measure MAE\n",
    "print(\"MAE on train: \",mean_absolute_error(labels_train, model.predict(features_train)))\n",
    "print(\"MAE on validation: \",mean_absolute_error(labels_val, model.predict(features_val)))"
   ]
  },
  {
   "cell_type": "code",
   "execution_count": null,
   "metadata": {},
   "outputs": [],
   "source": [
    "#e\n"
   ]
  },
  {
   "cell_type": "markdown",
   "metadata": {},
   "source": [
    "## 3. Linear Regression by hand"
   ]
  },
  {
   "cell_type": "markdown",
   "metadata": {},
   "source": [
    "> a) Escriba una función que calcule la función de pérdida, error cuadrático medio (MSE - *mean squared error*), para un dato o para un conjunto de datos.\n",
    "\n",
    "La función de perdida ECM de define como:\n",
    "$$\n",
    "Loss = \\frac{1}{N} \\sum_i^N ( Y_i - \\hat{Y}_i )^2\n",
    "$$\n",
    "\n",
    "Donde: \n",
    "* $Y$ es un vector de N valores verdaderos.\n",
    "* $\\hat{Y}$ es un vector con N prediciones."
   ]
  },
  {
   "cell_type": "code",
   "execution_count": 47,
   "metadata": {},
   "outputs": [
    {
     "name": "stdout",
     "output_type": "stream",
     "text": [
      "Resultado fucion de perdida para un conjunto de datos:  0.6666666666666666\n"
     ]
    }
   ],
   "source": [
    "y = [3,5,6] # vector de valoras verdaderos.\n",
    "x= [4,6,6] # vector de predicioes.\n",
    "datos = np.array([x,y])\n",
    "\n",
    "def ecm (datos):\n",
    "    resta=datos[0]-datos[1]\n",
    "    cuadrado=resta**2\n",
    "    loss=sum(cuadrado)/len(resta)\n",
    "    return loss\n",
    "\n",
    "perdida=ecm(datos)\n",
    "print(\"Resultado fucion de perdida para un conjunto de datos: \",perdida)"
   ]
  },
  {
   "cell_type": "markdown",
   "metadata": {},
   "source": [
    "> b) Escriba una función que calcule el gradiente (derivada) de la función de pérdida anterior, para un dato o para un conjunto de datos. *Escriba explícitamente la derivada (gradiente)*.\n",
    "\n",
    "$$\n",
    "f(x) = \\frac{1}{N} ( x - \\hat{Y} )^2\n",
    "$$\n",
    "$$\n",
    "f(x)'=\\frac{2}{N} ( x - \\hat{Y} )\n",
    "$$"
   ]
  },
  {
   "cell_type": "code",
   "execution_count": 48,
   "metadata": {},
   "outputs": [
    {
     "name": "stdout",
     "output_type": "stream",
     "text": [
      "Vector con todas las derivadas [0.66666667 0.66666667 0.        ]\n",
      "Resulado:  1.3333333333333333\n"
     ]
    }
   ],
   "source": [
    "i=0\n",
    "derivadas=[]\n",
    "def gradiente(datos):\n",
    "    resta=datos[0]-datos[1]\n",
    "    resultado=(resta*2)/len(resta)\n",
    "    print(\"Vector con todas las derivadas\",resultado)\n",
    "    return sum(resultado)\n",
    "\n",
    "resul=gradiente(datos)\n",
    "print(\"Resulado: \",resul)\n"
   ]
  },
  {
   "cell_type": "markdown",
   "metadata": {},
   "source": [
    "> c) Escriba una función que calcule los parámetros de una regresión lineal simple de manera analítica (es decir el mínimo global). \n",
    "\n",
    "<div class=\"alert alert-warning\"> Hint: ésto debería ser la ecuación desglosada de la derivada igual a 0, la cual incluye $(X^TX)^{-1}$</div>\n",
    "\n",
    "* Regresión lineal simple:\n",
    "$$\n",
    "\\hat{y} = f(\\vec{x}) =\\beta_0 +\\beta_1\\cdot \\vec{x}\n",
    "$$\n"
   ]
  },
  {
   "cell_type": "code",
   "execution_count": null,
   "metadata": {},
   "outputs": [],
   "source": []
  }
 ],
 "metadata": {
  "kernelspec": {
   "display_name": "Python 3",
   "language": "python",
   "name": "python3"
  },
  "language_info": {
   "codemirror_mode": {
    "name": "ipython",
    "version": 3
   },
   "file_extension": ".py",
   "mimetype": "text/x-python",
   "name": "python",
   "nbconvert_exporter": "python",
   "pygments_lexer": "ipython3",
   "version": "3.6.5"
  }
 },
 "nbformat": 4,
 "nbformat_minor": 2
}
