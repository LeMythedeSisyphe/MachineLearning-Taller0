{
 "cells": [
  {
   "cell_type": "code",
   "execution_count": 33,
   "metadata": {},
   "outputs": [
    {
     "name": "stdout",
     "output_type": "stream",
     "text": [
      "866 4167 2880 1204 513 281 76\n"
     ]
    }
   ],
   "source": [
    "import matplotlib.pyplot as plt\n",
    "import pandas as pd\n",
    "\n",
    "import numpy as np\n",
    "\n",
    "#a\n",
    "df = pd.read_csv(\"Train_rev1.csv\")\n",
    "df_train = df.iloc[:-10000]  #todo el conjunto menos los ultimos 10k\n",
    "df_val = df.iloc[-10000:]    #ultimos 10k valores del conjunto\n",
    "df_val\n",
    "maximo=max(df_val.SalaryNormalized) \n",
    "largo_conjunto= maximo/10  #el 10 determina la cantida de conjuntos\n",
    "c1=0\n",
    "c2=0\n",
    "c3=0\n",
    "c4=0\n",
    "c5=5\n",
    "c6=0\n",
    "c7=0\n",
    "c8=0\n",
    "c9=0\n",
    "c10=0\n",
    "for x in df_val.SalaryNormalized:\n",
    "    if largo_conjunto >= x:\n",
    "        c1=c1+1 \n",
    "    elif(2*largo_conjunto) >= x:\n",
    "        c2=c2+1\n",
    "    elif (3*largo_conjunto) >= x:\n",
    "        c3=c3+1\n",
    "    elif(4*largo_conjunto) >= x:\n",
    "        c4=c4+1\n",
    "    elif (5*largo_conjunto) >= x:\n",
    "        c5=c5+1\n",
    "    elif (6*largo_conjunto) >= x:\n",
    "        c6=c6+1\n",
    "    elif (7*largo_conjunto) >= x:\n",
    "        c7=c7+1\n",
    "    elif (8*largo_conjunto) >= x:\n",
    "        c8=c8+1\n",
    "    elif (9*largo_conjunto)>=x:\n",
    "        c9=c9+1\n",
    "    else:\n",
    "        c10=c10+1\n",
    "print(c1,c2,c3,c4,c5,c6,c7)\n",
    "\n",
    "    \n",
    "#plt.bar(np.arange(len(df_val.SalaryNormalized)),df_val.SalaryNormalized)  \n"
   ]
  },
  {
   "cell_type": "code",
   "execution_count": null,
   "metadata": {},
   "outputs": [],
   "source": []
  },
  {
   "cell_type": "code",
   "execution_count": null,
   "metadata": {},
   "outputs": [],
   "source": []
  }
 ],
 "metadata": {
  "kernelspec": {
   "display_name": "Python 3",
   "language": "python",
   "name": "python3"
  },
  "language_info": {
   "codemirror_mode": {
    "name": "ipython",
    "version": 3
   },
   "file_extension": ".py",
   "mimetype": "text/x-python",
   "name": "python",
   "nbconvert_exporter": "python",
   "pygments_lexer": "ipython3",
   "version": "3.6.5"
  }
 },
 "nbformat": 4,
 "nbformat_minor": 2
}
